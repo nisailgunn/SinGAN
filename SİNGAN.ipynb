{
  "nbformat": 4,
  "nbformat_minor": 0,
  "metadata": {
    "colab": {
      "private_outputs": true,
      "provenance": [],
      "authorship_tag": "ABX9TyMm4GaAvaTT7DI8O1tKLjde",
      "include_colab_link": true
    },
    "kernelspec": {
      "name": "python3",
      "display_name": "Python 3"
    },
    "language_info": {
      "name": "python"
    },
    "accelerator": "GPU",
    "gpuClass": "standard"
  },
  "cells": [
    {
      "cell_type": "markdown",
      "metadata": {
        "id": "view-in-github",
        "colab_type": "text"
      },
      "source": [
        "<a href=\"https://colab.research.google.com/github/nisailgunn/SinGAN/blob/master/S%C4%B0NGAN.ipynb\" target=\"_parent\"><img src=\"https://colab.research.google.com/assets/colab-badge.svg\" alt=\"Open In Colab\"/></a>"
      ]
    },
    {
      "cell_type": "code",
      "execution_count": null,
      "metadata": {
        "id": "rffGHrbqn3gA"
      },
      "outputs": [],
      "source": [
        "!git clone https://github.com/tamarott/SinGAN.git"
      ]
    },
    {
      "cell_type": "markdown",
      "source": [
        "Bu kod bloğu, SinGAN projesinin gerekli Python kütüphanelerini yüklemek için kullanılan bir komuttur.\n",
        "\n"
      ],
      "metadata": {
        "id": "R97tsST0qyuq"
      }
    },
    {
      "cell_type": "code",
      "source": [
        "!python -m pip install -r /content/SinGAN/requirements.txt"
      ],
      "metadata": {
        "id": "28vCnBw6oWEc"
      },
      "execution_count": null,
      "outputs": []
    },
    {
      "cell_type": "markdown",
      "source": [
        "Bu kod bloğu, SinGAN'ı öğrenmek için eğitim işlemini başlatır ve birds.png dosyasını girdi olarak kullanır. SinGAN, çeşitli eğitim adımları ile girdi resmine benzer yapılara sahip sanatsal görüntüler oluşturur. --input_name parametresi, eğitimde kullanılacak girdi resminin adını belirler. Bu parametre değiştirilerek farklı girdi resimleri kullanılabilir."
      ],
      "metadata": {
        "id": "y1SZnsVjtxXB"
      }
    },
    {
      "cell_type": "code",
      "source": [
        "!python /content/SinGAN/main_train.py --input_name /content/SinGAN/Input/Images/birds.png"
      ],
      "metadata": {
        "id": "CD9LExldopIr"
      },
      "execution_count": null,
      "outputs": []
    },
    {
      "cell_type": "markdown",
      "source": [
        "İsteğe bağlı boyutlarda rastgele örnekler"
      ],
      "metadata": {
        "id": "g-KLjzNJ03ow"
      }
    },
    {
      "cell_type": "code",
      "source": [
        "!python /content/SinGAN/random_samples.py --input_name /content/SinGAN/Input/Images/birds.png --mode random_samples --gen_start_scale 2"
      ],
      "metadata": {
        "id": "vJo0huZRpNdj"
      },
      "execution_count": null,
      "outputs": []
    },
    {
      "cell_type": "markdown",
      "source": [
        "Eğitim görüntüsünü kullanarak, yatayda 2 kat, dikeyde ise yarım kat ölçeklendirilmiş rastgele örneklemeler oluşturacaktır.\n"
      ],
      "metadata": {
        "id": "dG2blF3FqVyE"
      }
    },
    {
      "cell_type": "code",
      "source": [
        "!python /content/SinGAN/random_samples.py --input_name /content/SinGAN/Input/Images/birds.png --mode random_samples_arbitrary_sizes --scale_h 2 --scale_v 0.5"
      ],
      "metadata": {
        "id": "n9BVc0eJpyHs"
      },
      "execution_count": null,
      "outputs": []
    },
    {
      "cell_type": "markdown",
      "source": [
        "Tek bir görüntüden animasyon"
      ],
      "metadata": {
        "id": "25n_IEVTqduT"
      }
    },
    {
      "cell_type": "code",
      "source": [
        "!python /content/SinGAN/animation.py --input_dir /content/SinGAN/Input/Images --input_name birds.png"
      ],
      "metadata": {
        "id": "uRVwY9PuqdWz"
      },
      "execution_count": null,
      "outputs": []
    },
    {
      "cell_type": "markdown",
      "source": [
        "Bu komut, \"harmonization.py\" adlı bir Python programını çalıştırmak için kullanılır. Program, \"my_training_image.jpg\" adlı bir eğitim görüntüsü dosyası ve \"my_reference_image.jpg\" adlı bir referans (reference) görüntü dosyası kullanarak, referans görüntüsünü eğitim verisiyle uyumlu hale getirmek için bir uyumlu hale getirme işlemi yapar.\n",
        "\n",
        "\"--harmonization_start_scale\" argümanı, programın hangi ölçekleme faktörü seviyesinde başlaması gerektiğini belirtir. Burada \"3\" olarak belirtilmiştir, yani işlem üçüncü en düşük ölçekte başlayacak ve ardından ölçek faktörünü artırarak devam edecektir."
      ],
      "metadata": {
        "id": "9N2gTd97AdaW"
      }
    },
    {
      "cell_type": "code",
      "source": [
        "!python /content/SinGAN/harmonization.py --input_dir /content/SinGAN/Input/Images --input_name birds.png --ref_dir /content/SinGAN/Input/Harmonization --ref_name birds_mask.jpg --harmonization_start_scale 0\n"
      ],
      "metadata": {
        "id": "OuxZxv0G_tlo"
      },
      "execution_count": null,
      "outputs": []
    }
  ]
}